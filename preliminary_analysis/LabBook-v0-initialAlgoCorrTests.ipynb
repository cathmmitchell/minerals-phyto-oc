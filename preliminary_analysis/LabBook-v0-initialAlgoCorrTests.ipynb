{
 "cells": [
  {
   "cell_type": "markdown",
   "metadata": {},
   "source": [
    "# Background\n",
    "\n",
    "I want to test how the different algorithm correction methods perform when there is volcanic ash present. My understanding is that volcanic ash, as a strongly absorbing aerosol, will be incorrectly dealt with in the default NASA OBPG processing stream, and that I should use something like Wang and Shi 2007. So, I want to check the performance for a couple of satellite images where there are known ash events and see the difference between the default algorithm and the SWIR/NIR algorithm.\n",
    "\n",
    "There are a couple of things to think about in terms of differences:\n",
    "\n",
    "1. The default algo will overcorrect in the blue i.e. the radiance will be too low\n",
    "2. It's debatable about what will happen for resultant bio-optical algorithms e.g. chl: \n",
    "    1. An IOCCG report states that even though the magnitudes of Rrs will be too low, the ratio of blue to green will be the same, therefore the OC4/OC3M flavour of chl algorithms will be OK, but the OCI flavour will not.\n",
    "    2. Most other sources state that with underestimated reflectances in the blue, the chlorophll concentration will be overestimated.\n",
    "    \n",
    "So we need to think about atmospheric correction and chlorophyll algorithms. Unfortunately, I don't have in situ data to actually verify which is \"correct\""
   ]
  },
  {
   "cell_type": "markdown",
   "metadata": {},
   "source": [
    "# Volcanic Ash Events\n",
    "\n",
    "What satellite data should I use?\n",
    "\n",
    "Kasatochi 2008, August, day 220.\n",
    "\n",
    "## MODIS Files?\n",
    "\n",
    "A2008221231500: Aug 8th, end of eruption.\n",
    "\n"
   ]
  },
  {
   "cell_type": "markdown",
   "metadata": {},
   "source": [
    "# Satellite Data Processing\n",
    "\n",
    "SeaDAS has a bunch of aerosol subraction models, and one of those is the SWIR/NIR Wang one. But there are others, and in the Forum, Sean suggests trying a couple of the different options. It seems that for at least one of them you can provide an aerosol optical thickness. Which has made me wonder that:\n",
    "\n",
    "**If you can get AOT from another satellite source, then you can enter it here, and do that atmos correction**\n",
    "\n",
    "I think this might be the best approach for this project, at least to put in the proposal. Need to do some reading re Verity's work and deriving aerosol optical thickness from e.g. MISR."
   ]
  },
  {
   "cell_type": "code",
   "execution_count": null,
   "metadata": {},
   "outputs": [],
   "source": []
  }
 ],
 "metadata": {
  "kernelspec": {
   "display_name": "Python 3",
   "language": "python",
   "name": "python3"
  },
  "language_info": {
   "codemirror_mode": {
    "name": "ipython",
    "version": 3
   },
   "file_extension": ".py",
   "mimetype": "text/x-python",
   "name": "python",
   "nbconvert_exporter": "python",
   "pygments_lexer": "ipython3",
   "version": "3.7.4"
  }
 },
 "nbformat": 4,
 "nbformat_minor": 2
}
