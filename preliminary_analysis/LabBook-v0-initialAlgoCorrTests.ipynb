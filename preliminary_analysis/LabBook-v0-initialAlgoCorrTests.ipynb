{
 "cells": [
  {
   "cell_type": "markdown",
   "metadata": {},
   "source": [
    "# Background\n",
    "\n",
    "I want to test how the different algorithm correction methods perform when there is volcanic ash present. My understanding is that volcanic ash, as a strongly absorbing aerosol, will be incorrectly dealt with in the default NASA OBPG processing stream, and that I should use something like Wang and Shi 2007. So, I want to check the performance for a couple of satellite images where there are known ash events and see the difference between the default algorithm and the SWIR/NIR algorithm.\n",
    "\n",
    "There are a couple of things to think about in terms of differences:\n",
    "\n",
    "1. The default algo will overcorrect in the blue i.e. the radiance will be too low\n",
    "2. It's debatable about what will happen for resultant bio-optical algorithms e.g. chl: \n",
    "    1. An IOCCG report states that even though the magnitudes of Rrs will be too low, the ratio of blue to green will be the same, therefore the OC4/OC3M flavour of chl algorithms will be OK, but the OCI flavour will not.\n",
    "    2. Most other sources state that with underestimated reflectances in the blue, the chlorophll concentration will be overestimated.\n",
    "    \n",
    "So we need to think about atmospheric correction and chlorophyll algorithms. Unfortunately, I don't have in situ data to actually verify which is \"correct\""
   ]
  },
  {
   "cell_type": "markdown",
   "metadata": {},
   "source": [
    "# Volcanic Ash Events\n",
    "\n",
    "What satellite data should I use?\n",
    "\n",
    "Kasatochi 2008, August, day 220\n",
    "\n",
    "Kamkatcha 2015, September, day 259\n",
    "\n",
    "## MODIS Files?\n",
    "\n",
    "A2008221231500: Aug 8th, end of eruption.\n",
    "\n",
    "A2015259022000: Sept 15th, day of eruption.\n"
   ]
  },
  {
   "cell_type": "markdown",
   "metadata": {},
   "source": [
    "# Satellite Data Processing\n",
    "\n",
    "SeaDAS has a bunch of aerosol subraction models, and one of those is the SWIR/NIR Wang one. But there are others, and in the Forum, Sean suggests trying a couple of the different options. It seems that for at least one of them you can provide an aerosol optical thickness. Which has made me wonder that:\n",
    "\n",
    "**If you can get AOT from another satellite source, then you can enter it here, and do that atmos correction**\n",
    "\n",
    "I think this might be the best approach for this project, at least to put in the proposal. Need to do some reading re Verity's work and deriving aerosol optical thickness from e.g. MISR."
   ]
  },
  {
   "cell_type": "markdown",
   "metadata": {},
   "source": [
    "# UPDATE\n",
    "\n",
    "When I did some more reading and digging around, I realised that the above Satellite Data Processing approach isn't going to work, or more precisely, it is impossible with the current way the atmospheric correction processing code is written. \n",
    "\n",
    "More specifically, with the current satellites and atmospheric correction algorithms, it is impossible to identify strongly absorbing aerosols. The standard (and non-standard) algorithms detect aerosols based on the signal in the NIR, but unfortunately, using the NIR it is not possible to distinguish if there is a strongly absorbing aerosol or not. A LUT is used to select an aerosol based on the NIR signal and 80 commonly occurring aerosols. \n",
    "\n",
    "Even if you know the aerosol type from a different source, including information about aerosol height, there is no way to apply that to only the specific part of the satellite image where that aerosols is present – you would have to apply it to the whole image. *There is no way the current atmospheric correction code can deal with different aerosols unless the default correction is used with the LUT of 80 aerosols. And developing a way to do it would be a whole proposal in itself (with experts that aren’t me involved).*\n",
    "\n",
    "I'm wondering about a \"rough\" approach...\n",
    "\n"
   ]
  },
  {
   "cell_type": "markdown",
   "metadata": {},
   "source": [
    "# New Data Processing approach\n",
    "\n",
    "Overview of approach: *Apply a specified aerosol optical depth to a whole satellite image when we know there is plume*\n",
    "\n",
    "As I see it, there are a couple of ways to do this:\n",
    "1. Use MISR data:\n",
    "    - Determine AOD from e.g. MISR\n",
    "    - Determine how long the plume is present in the atmosphere e.g. from MISR (perhaps the others have an idea about this already)\n",
    "    - Apply this to THE LEVEL 1 images i.e. to make LEVEL 2\n",
    "2. Use MODIS data (see details in `LabBook-v1-Kamchatka-MODISApproach`):\n",
    "    - Determine a mean AOD or angstrom coeff from the day before image\n",
    "    - Apply this to the LEVEL 1 images i.e. to make LEVEL 2\n",
    "    \n",
    "I want to dig into the MISR stuff a little bit\n",
    "\n",
    "# MISR\n",
    "\n",
    "Following the details in Verity's paper (https://www.sciencedirect.com/science/article/pii/S0377027316304619), I want to download the data from the Kamchatka remobilization event (Sept 2015) and determine aod. \n",
    "\n",
    "I downloaded MINX from: https://github.com/nasa/MINX. The repository also contains lots of documentation, which details where to download data, how to search for data, the data products and using the MINX software. Some of the links in Verity's paper and that documentation don't work... so I ended up going to https://l0dup05.larc.nasa.gov/MISR/cgi-bin/MISR/main.cgi for downloading data and using the instructions in https://github.com/nasa/MINX/blob/master/webdoc/MINX_Doc2.pdf.\n",
    "\n",
    "## Kamchatka processing details\n",
    "\n",
    "I searched for:\n",
    "1. aerosol products (MIL2ASAE)\n",
    "2. path number 98 (orbit number is 83744)\n",
    "3. September 2015\n",
    "4. blocks 43 - 50 (using the subsetting/customization option after the initial search)\n",
    "\n",
    "I ordered these data (order number 628931181), waiting on response...\n",
    "\n"
   ]
  },
  {
   "cell_type": "markdown",
   "metadata": {},
   "source": [
    "I recieved and downloaded the file but I'm having trouble loading it into MINX. I wonder if it's a new file formatting issue, so I've reordered, with an older version of the data included (i.e. a .hdf file)... That new order number is 628979756. I got the new file, it loaded in MINX, but it's hard to locate what is what i.e. where land is...  I've now ordered another file that hopefully has TOA radiances in it, so I can plot that too and figure out what the aot and angstrom data is telling me (order number 629006111) \n",
    "\n",
    "It's worth mentioning though, I don't have a MISR image for the day of the eruption, only the day after. So even if I can understand the data in the file it isn't really going to help me."
   ]
  },
  {
   "cell_type": "markdown",
   "metadata": {},
   "source": [
    "# UPDATE\n",
    "\n",
    "Still struggling with MINX and MISR... why not just open the MISR files in python and see what I can figure out? See notebook **`MISR-initial-analysis`**"
   ]
  },
  {
   "cell_type": "markdown",
   "metadata": {},
   "source": [
    "# UPDATE 2\n",
    "\n",
    "From the MISR file, I calculated the average angstrom and aod over the plume region (see full details in **`MISR-initial-analysis`**). I then used those values to rerun `l2gen` and try different atmospheric correction methods:\n",
    "\n",
    "1. Using `aer_opt = -8` and `taua = [0.169, 0.176, 0.181, 0.185, 0.194, 0.197, 0.199, 0.216, 0.221, 0.223, 0.235, 0.255, 0.256, 0.315, 0.373, 0.437]`. File name suffix: `_taua_0-169_0-437`\n",
    "2. Using `aer_opt = -7 ` and `aer_angstrom = 0.578`\n",
    "\n",
    "I'm not confident the `aer_opt = -8` option is working correctly - I'm going to check on the Forum. But the fixed angstrom run seems to be reasonable. I'm going to start a new notebook and start looking at those output files: **`LabBook-v3-MODISApproach-take2`**\n",
    "\n",
    "# AOD UPDATE\n",
    "\n",
    "I figured out what the problem was with the AOD... I had commented out the `aer_angstrom` value in the line above the `taua` values, and the shell script stopped reading at the comment (rather than continuing past it). So I just had to re-adjust the script slightly and re-run."
   ]
  },
  {
   "cell_type": "code",
   "execution_count": null,
   "metadata": {},
   "outputs": [],
   "source": []
  }
 ],
 "metadata": {
  "kernelspec": {
   "display_name": "Python 3",
   "language": "python",
   "name": "python3"
  },
  "language_info": {
   "codemirror_mode": {
    "name": "ipython",
    "version": 3
   },
   "file_extension": ".py",
   "mimetype": "text/x-python",
   "name": "python",
   "nbconvert_exporter": "python",
   "pygments_lexer": "ipython3",
   "version": "3.7.4"
  }
 },
 "nbformat": 4,
 "nbformat_minor": 2
}
