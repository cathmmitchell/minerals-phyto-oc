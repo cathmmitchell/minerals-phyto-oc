{
 "cells": [
  {
   "cell_type": "markdown",
   "metadata": {},
   "source": [
    "To a direct comparison between the satellite data on different days we need the data to binned/mapped onto the same grid. We can do this visually using Cartopy, but the challenge is to do this on the data and output a \"mapped\" data array. I'm going to investigate the different binning/mapping functions within SeaDAS."
   ]
  },
  {
   "cell_type": "markdown",
   "metadata": {},
   "source": [
    "# SeaDAS run info\n",
    "\n",
    "The following runs were done at the command line with the arguments specified below. For the later runs, I used a par file to specify some of the arguments, rather than type them all out at the command line. The original files are on the VM, in `~/SatelliteFiles/binning-mapping-tests/`. I checked the outputs visually in SeaDAS.\n",
    "\n",
    "\n",
    "| RunID| processor | input file | output file | flags | resolution | other settings | comments |\n",
    "|:---|:---|:---|:---|:---|:---|:---|:---|\n",
    "|1|l2bin| A201525902000.L2 | A2015259022000.L3b | same as L2: LAND, HILT, STRAYLIGHT, CLDICE | 1 | prodtype = regional | can't open bin files in SeaDAS, need to map them |\n",
    "|2|l2mapgen| A201525902000.L2 | A2015259022000_map_chl | same as L2: LAND, HILT, STRAYLIGHT, CLDICE | 1 | | produces only an image (e.g. png or tiff) |\n",
    "|3|l3mapgen| A2015259022000.L3b | A2015259022000_l3map.nc | N/A | 1 | all products (I listed them in the l3mapgen_defaults.par file), and output netCDF | a lot of gaps in the data |\n",
    "|4|l3mapgen| A2015259022000.L3b | A2015259022000_l3map_2km.nc | N/A | 2 | all products (I listed them in the l3mapgen_defaults.par file), and output netCDF | still lots of gaps |\n",
    "|5|l3mapgen| A2015259022000.L3b | A2015259022000_l3map_interp.nc | N/A | 1 | all products (I listed them in the l3mapgen_defaults.par file), output netCDF, and interp=area | much better (still a few gaps) but large areas of missing data when compared with L2 file |\n",
    "|6|l2bin| A201525902000.L2 | A2015259022000_noPICPOC.L3b | LAND, HILT, STRAYLIGHT, CLDICE | 1 | all products except PIC or POC (I listed them in the l2bin_defaults_noPICPOC.par file, prodtype = regional |  |\n",
    "|7|l3mapgen| A2015259022000_noPICPOC.L3b | A2015259022000_l3map_interp_noPICPOC.nc | N/A | 1 | all products except PIC or POC (I listed them in the l3mapgen_defaults_noPICPOC.par file), output netCDF, and interp=area | much better! |"
   ]
  },
  {
   "cell_type": "markdown",
   "metadata": {},
   "source": [
    "## Detailed comments on the SeaDAS runs\n",
    "\n",
    "### Run 1\n",
    "\n",
    "The format of the binned files is slightly weird, and not well explained anywhere. From forum reading,  I learnt that you can't open them in SeaDAS and opening them in HDFView or a notebook didn't really help me detangle what was inside. Therefore, I decided to try one of the mapping processors: `l2mapgen`.\n",
    "\n",
    "### Run 2\n",
    "\n",
    "Successful and easy to use/interpret, but data is only output in image format. I need to use `l3mapgen`.\n",
    "\n",
    "### Run 3\n",
    "\n",
    "There were a lot of gaps in the data when producing a mapped file at 1km resolution. This is because the resolution is really only 1km at nadir, and when you move further from nadir the pixels are larger. Therefore the binning results in these gaps. Going to try binning at a larger resolution.\n",
    "\n",
    "### Run 4\n",
    "\n",
    "This didn't really improve things much. But I did more reading on the forum and learnt that (https://oceancolor.gsfc.nasa.gov/forum/oceancolor/topic_show.pl?pid=40924#pid40924):\n",
    ">By default,  mapper (l3mapgen) takes each mapped pixel and looks up in the bin file the closest bin to the mapped pixel center, so mapping a 1km\n",
    "bin file of a nominally 1km sensor to a 1km map resolution will produce some pretty Moire patterns.  The mapper has two features to help mitigate this:\n",
    "fudge and interp.\n",
    "\n",
    ">The fudge factor, is just that.  It \"fudges\" the size of the area to look up in the bin file by the corresponding factor provided.  When the mapper looks up\n",
    "a location in the bin file and does not find a match, you get missing data in the map.  With the fudge factor, the mapper will look up a larger region in the\n",
    "bin file to associate with the map pixel.  The current version only does this look up if no retrieval was found using the defined resolution. \n",
    "\n",
    ">The interp option allows you to select 'area' (the default is nearest-neighbor, so no interpolation).  With area interpolation, the mapper uses the corners of\n",
    "the mapped pixel to define an area to search in the bin file.  This is a useful feature, since the projection of the map is not going to line up with the projection\n",
    "of the bin file.\n",
    "\n",
    "So I decided to use `interp=area` with `l3mapgen`\n",
    "\n",
    "### Run 5\n",
    "\n",
    "This helped, and there are less gaps in the data. However, I noticed there are some regions in the chl data that appear to be missing where there was valid data in the L2 file. Is there a flagging issue? I can't specify the flags in `l3mapgen` - I assume they are just taking them from the L3b file (which were specified using `l2bin`). The forum tells me:\n",
    ">Be aware that when you specify l3bprod=\"all\" you are binning everything from the level2 file.  The way binning works is that for any one pixel, if any one product fails to bin for that pixel, then all products fail to bin for that pixel.  For example: if you want your rhos_nnn bands to bin over land you cannot also bin Rrs_nnn together with them because Rrs_nnn band do not contain values over land.\n",
    "\n",
    "Checking the L2 products, there are more data missing in the PIC and POC products than the others, so I am going to redo `l2bin` with those products removed, then redo `l3mapgen` (this run).\n",
    "\n",
    "### Run 6 and Run 7\n",
    "\n",
    "Everything went as expected - the final mapped products are more like the originals in the L2 file."
   ]
  },
  {
   "cell_type": "markdown",
   "metadata": {},
   "source": [
    "# Mapping Run Summary\n",
    "\n",
    "Once I figured out what combination of processors and which arguments to use, I wrote a couple scripts to loop through the following files:\n",
    "\n",
    "1. Day before (258)\n",
    "2. Day of (259), standard atmospheric correction\n",
    "3. Day of (259), fixed angstrom coefficient\n",
    "4. Day of (259), fixed aod\n",
    "5. Day after (260)\n",
    "\n",
    "(See details of the different atmospheric corrections in **`LabBook-v0`**.)\n",
    "\n",
    "The scripts are on the VM, but copied below for reference:\n",
    "\n",
    "#### modis_map.sh:"
   ]
  },
  {
   "cell_type": "code",
   "execution_count": null,
   "metadata": {},
   "outputs": [],
   "source": [
    "#### This script processes a L2 file to a mapped (L3) netCDF file\n",
    "\n",
    "#### $1 = the path to the file to be processed\n",
    "#### $2 = file name\n",
    "#### $3 = l2bin par file name\n",
    "#### $4 = l3mapgen par file name\n",
    "#### \n",
    "#### to run the script:\n",
    "####  1) open a terminal in the directory where the processing scripts are saved\n",
    "####  2) type at the command line\n",
    "####\t\t./modis_map.sh /PATH/TO/FILE filename l2binparfile l3mapgenfile\n",
    "\n",
    "cd $1\n",
    "\n",
    "# The line below assumes an extension, and creates a base name without that extension\n",
    "  BASE=\"${2%.*}\"\n",
    "  L2FILE=${BASE}.L2\n",
    "  L3BFILE=${BASE}.L3b\n",
    "  L3MAPFILE=${BASE}_mapped.nc\n",
    "\n",
    "l2bin ifile=$L2FILE ofile=$L3BFILE par=$3\n",
    "\n",
    "l3mapgen ifile=$L3BFILE ofile=$L3MAPFILE par=$4"
   ]
  },
  {
   "cell_type": "markdown",
   "metadata": {},
   "source": [
    "#### modis_map_batch.sh"
   ]
  },
  {
   "cell_type": "code",
   "execution_count": null,
   "metadata": {},
   "outputs": [],
   "source": [
    "while IFS= read -r line \n",
    "  do\n",
    "    echo \"Processing $line\"\n",
    "    . modis_map.sh ~/SatelliteFiles/ $line l2bin_defaults_cmm.par l3mapgen_defaults_cmm.par\n",
    "    cd ~/scripts/\n",
    "  done < mapFiles.txt"
   ]
  },
  {
   "cell_type": "markdown",
   "metadata": {},
   "source": [
    "The files to process were listed in **mapFiles.txt**:"
   ]
  },
  {
   "cell_type": "code",
   "execution_count": null,
   "metadata": {},
   "outputs": [],
   "source": [
    "A2015258013500\n",
    "A2015259022000\n",
    "A2015259022000_ang0-578\n",
    "A2015259022000_taua_0-169_0-437\n",
    "A2015260012500"
   ]
  },
  {
   "cell_type": "markdown",
   "metadata": {},
   "source": [
    "And the par files were\n",
    "\n",
    "#### l2bin_defaults_cmm.par"
   ]
  },
  {
   "cell_type": "code",
   "execution_count": null,
   "metadata": {},
   "outputs": [],
   "source": [
    "l3bprod=Rrs_412,Rrs_443,Rrs_469,Rrs_488,Rrs_531,Rrs_547,Rrs_555,Rrs_645,Rrs_667,Rrs_678,rhos_412,rhos_443,rhos_469,rhos_488,rhos_531,rhos_547,rhos_555,rhos_645,rhos_667,rhos_678,calcite_ci2,chlor_a,aot_869,angstrom\n",
    "flaguse=LAND,HILT,STRAYLIGHT,CLDICE\n",
    "resolution=1\n",
    "prodtype=regional"
   ]
  },
  {
   "cell_type": "markdown",
   "metadata": {},
   "source": [
    "#### l3mapgen_defaults_cmm.par"
   ]
  },
  {
   "cell_type": "code",
   "execution_count": null,
   "metadata": {},
   "outputs": [],
   "source": [
    "product_rgb=rhos_645,rhos_555,rhos_469\n",
    "product=Rrs_412,Rrs_443,Rrs_469,Rrs_488,Rrs_531,Rrs_547,Rrs_555,Rrs_645,Rrs_667,Rrs_678,rhos_412,rhos_443,rhos_469,rhos_488,rhos_531,rhos_547,rhos_555,rhos_645,rhos_667,rhos_678,calcite_ci2,chlor_a,aot_869,angstrom\n",
    "resolution=1km\n",
    "interp=area"
   ]
  },
  {
   "cell_type": "markdown",
   "metadata": {},
   "source": [
    "The final mapped files were copied to the Windows Host:  `C:\\Users\\cmitchell\\satelliteFiles\\volcano\\` and are netCDF files with the original MODIS-format file names, but with `_mapped` as a suffix.\n",
    "\n",
    "I'm going to start a new notebook to do the analysis of the images."
   ]
  }
 ],
 "metadata": {
  "kernelspec": {
   "display_name": "Python 3",
   "language": "python",
   "name": "python3"
  },
  "language_info": {
   "codemirror_mode": {
    "name": "ipython",
    "version": 3
   },
   "file_extension": ".py",
   "mimetype": "text/x-python",
   "name": "python",
   "nbconvert_exporter": "python",
   "pygments_lexer": "ipython3",
   "version": "3.7.4"
  }
 },
 "nbformat": 4,
 "nbformat_minor": 2
}
